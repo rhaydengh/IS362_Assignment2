{
 "cells": [
  {
   "cell_type": "markdown",
   "metadata": {},
   "source": [
    "# <font color=green> A Simple List Comprehension</font>"
   ]
  }
