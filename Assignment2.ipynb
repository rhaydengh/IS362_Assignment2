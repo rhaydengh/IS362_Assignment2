
{
 "cells": [
  {
   "cell_type": "markdown",
   "metadata": {},
   "source": [
    "# <font color=green> A Simple List Comprehension</font>"
   ]
  },
{
 "cells": [
  {
   "cell_type": "markdown",
   "metadata": {},
   "source": [
    "###  <font color=blue>This short code generates a list of numbers that are divisible by 2 from a given list.</font>"
   ]
  },
   {
   "cell_type": "code",
   "execution_count": null,
   "metadata": {
    "collapsed": true
   },
   "outputs": [],
   "source": [
    "numbers = [1,2,3,4,5]\n",
    "    global newlist\n", 
    "    for x in numbers:\n",
    "        if x%2 == 0:\n",
    "        newlist = [x/2 for x in numbers]\n",
    "    print(newlist)"
    ]}